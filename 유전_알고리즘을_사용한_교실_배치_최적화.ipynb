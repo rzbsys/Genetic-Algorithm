{
  "cells": [
    {
      "cell_type": "markdown",
      "metadata": {
        "id": "view-in-github",
        "colab_type": "text"
      },
      "source": [
        "<a href=\"https://colab.research.google.com/github/rzbsys/Genetic-Algorithm/blob/main/%EC%9C%A0%EC%A0%84_%EC%95%8C%EA%B3%A0%EB%A6%AC%EC%A6%98%EC%9D%84_%EC%82%AC%EC%9A%A9%ED%95%9C_%EA%B5%90%EC%8B%A4_%EB%B0%B0%EC%B9%98_%EC%B5%9C%EC%A0%81%ED%99%94.ipynb\" target=\"_parent\"><img src=\"https://colab.research.google.com/assets/colab-badge.svg\" alt=\"Open In Colab\"/></a>"
      ]
    },
    {
      "cell_type": "markdown",
      "metadata": {
        "id": "YlL6A8LKiEox"
      },
      "source": [
        "# **유전 알고리즘으로 교실 배치 최적화**"
      ]
    },
    {
      "cell_type": "markdown",
      "metadata": {
        "id": "B1PHOG-_10i0"
      },
      "source": [
        "작성 : 대전대신고등학교 3학년 4반 전민국\n",
        "\n",
        "인공지능 수학 수행평가"
      ]
    },
    {
      "cell_type": "markdown",
      "metadata": {
        "id": "qJd5H11-jRPC"
      },
      "source": [
        "## **동기**"
      ]
    },
    {
      "cell_type": "markdown",
      "metadata": {
        "id": "idF1v4N5iQmJ"
      },
      "source": [
        "<img src=\"https://drive.google.com/uc?id=1tUd8joPMn0kmkQr9ZjnY8Xc4oR5-l3GL\" height=\"300\"/>\n",
        "\n",
        "<img src=\"https://drive.google.com/uc?id=1hDMIZQGywTouC-5_xOqXiI2xzDXToGk9\" height=\"300\"/>\n",
        "\n",
        "\n",
        "대전대신고등학교는 사진에서 볼 수 있다시피 가로로 매우 길다. 그러다 보니 끝에서 끝까지 이동하는데 보통 3분이 걸리게 되고 복도에 이동하는 사람이 많으면 많을 수록 시간이 늘어난다. 과거에는 학교의 끝에서 끝으로 이동하는 경우가 거의 없었지만, 고교학점제로 매 시간마다 이동수업이 진행되면서 이런 경우가 많아졌다. \n",
        "\n",
        "\n",
        "예를 들어 금요일을 예로 들면 `확률과 통계` 수업은 4층 왼쪽 끝에서 진행되고 `스포츠` 수업은 오른쪽 끝에 위치한 문으로 나가야 갈 수 있는 강당에서 진행된다. 또한, 6교시에 위치한 `화법과 작문`수업은 오른쪽 끝에서 진행되고, 그 다음 시간인 `심화영어`는 왼쪽 끝에서 진행된다."
      ]
    },
    {
      "cell_type": "markdown",
      "metadata": {
        "id": "xrlmftautDn5"
      },
      "source": [
        "## **해결 방법**\n"
      ]
    },
    {
      "cell_type": "markdown",
      "metadata": {
        "id": "SAWFOzouw5A3"
      },
      "source": [
        "### **Brute Force(완전 탐색) 해결 방법**"
      ]
    },
    {
      "cell_type": "code",
      "execution_count": 4,
      "metadata": {
        "colab": {
          "base_uri": "https://localhost:8080/"
        },
        "id": "EKIR7t5kycnN",
        "outputId": "52ca26d0-c606-4848-cbe1-474a8ae500d4"
      },
      "outputs": [
        {
          "output_type": "stream",
          "name": "stdout",
          "text": [
            "30414093201713378043612608166064768844377641568960512000000000000\n"
          ]
        }
      ],
      "source": [
        "import math\n",
        "print(math.factorial(50))"
      ]
    },
    {
      "cell_type": "markdown",
      "metadata": {
        "id": "DIJ4grncybQy"
      },
      "source": [
        "가장 먼저 떠오르는 방법은 모든 교실에 모든 수업을 배치해보는 방법일것이다. 그러나, 교실의 수가 N이라 할때 이 방법의 시간 복잡도는 $O(N!)$이 된다. 시간만 충분하다면 최적의 해법이 될 수도 있겠지만, 교실의 수와 수업의 수가 모두두 50개일때 가능한 경우의 수는 **304...(뒤 33자리 생략)**이다. 단순히 한번 검증하는데, $O(1)$이 걸린다고 가정하면 이를 3억으로 나누면 약 $8^{23}$초가 걸린다는 것을 알 수 있는데, 너무 오래걸린다.\n",
        "\n",
        "또한 이는 앞서 말했듯, 단순히 배치가 가능한 교실의 수이기에 Djikstra 알고리즘과 같이 검증할 때 필요한 연산($O(NlogN)$)을 고려하여 계산하면 엄청난 시간이 걸린다는 것을 알 수 있다.\n",
        "\n",
        "따라서 Brute Force 알고리즘으로는 이 문제를 해결할 수 없다."
      ]
    },
    {
      "cell_type": "markdown",
      "metadata": {
        "id": "HY-yEEoyw5vO"
      },
      "source": [
        "### **유전 알고리즘을을 통한 해결방법**"
      ]
    },
    {
      "cell_type": "markdown",
      "metadata": {
        "id": "bc8iqh9qzJZK"
      },
      "source": [
        "위 상황을 보면 일단 모든 경우의 수를 볼 수 없다. 더 최적의 알고리즘이 있을 수 있지만, 내가 생각한 해결 방법은 문제를 Heuristics하게 푸는 것이다.\n",
        "\n",
        "> **Heuristics이란?**</br>\n",
        "불충분한 시간이나 정보로 인하여 합리적인 판단을 할 수 없거나, 체계적이면서 합리적인 판단이 굳이 필요하지 않은 상황에서 사람들이 빠르게 사용할 수 있게 보다 용이하게 구성된 간편추론의 방법이다.\n",
        "\n",
        "윗 말 그대로 이 방법은 최적의 해를 구하진 못하고, 때로는 가장 안좋은 해답을 내놓을 수도 있다. 그러나 대부분의 상황에서 만족할만한 답을 내놓기 때문에 해결해야하는 문제 상황에 잘 맞는 알고리즘이다.\n"
      ]
    },
    {
      "cell_type": "markdown",
      "metadata": {
        "id": "VTJr1WO3zal-"
      },
      "source": [
        "이 방법의 대표적인 알고리즘으로는 **유전 알고리즘(Genetic Algorithm)**이 존재한다. 유전 알고리즘은 이름 그대로 다윈이 발견한 유전 법칙을 컴퓨터로 모방한 것이다.\n",
        "\n",
        "\n",
        "\n",
        "> **유전 알고리즘**<br/>\n",
        "유전 알고리즘(GA)은 생물학적 진화를 모방하여 자연 선택 과정을 기반으로 하여 제약 및 비제약 최적화 문제를 풀 수 있는 방법입니다. 이 알고리즘은 개별 해의 모집단을 계속해서 수정합니다. 각 단계에서 유전 알고리즘은 현재 모집단에서 무작위로 개별 해를 선택하여 다음 세대의 해를 생성하는 부모 해로 사용합니다. 세대가 지나면서 모집단은 최적의 해로 \"진화\"하게 됩니다.\n"
      ]
    },
    {
      "cell_type": "markdown",
      "metadata": {
        "id": "_Z-Oi0Cr5mYp"
      },
      "source": [
        "유전 알고리즘을 설명하는 원리 부분은 [이 글](https://github.com/handcraftsman/GeneticAlgorithmsWithPython/blob/master/ch01/guessPasswordTests.py)을 참고하였다. \n",
        "\n",
        "예시에서 해결하려 하는 문제는 비밀번호를  "
      ]
    },
    {
      "cell_type": "markdown",
      "metadata": {
        "id": "ftrZBY6AUHdC"
      },
      "source": [
        "### **유전 알고리즘 예제**"
      ]
    },
    {
      "cell_type": "markdown",
      "metadata": {
        "id": "Cfymz7-RCUwT"
      },
      "source": [
        "> GeneSet : 유전자가 가질 수 있는 문자열의 수</br>\n",
        "Target : 맞추려 하는 암호 </br>\n",
        "OptimalFitness : 최적이라 생각하는 Fitness(Target과 얼마나 다른지지)의 값\n",
        "\n"
      ]
    },
    {
      "cell_type": "code",
      "execution_count": null,
      "metadata": {
        "id": "1nnyo5-0CdXd"
      },
      "outputs": [],
      "source": [
        "GeneSet = \" abcdefghijklmnopqrstuvwxyzABCDEFGHIJKLMNOPQRSTUVWXYZ!.,\"\n",
        "Target = \"Daeshin\"\n",
        "OptimalFitness = 0"
      ]
    },
    {
      "cell_type": "markdown",
      "metadata": {
        "id": "A3jwcmMiTJ7G"
      },
      "source": [
        "#### **적합도 함수 생성**"
      ]
    },
    {
      "cell_type": "markdown",
      "metadata": {
        "id": "BsDLYryaTNB5"
      },
      "source": [
        "유전자가 Target에 얼만큼 적합한지 판단하는 함수를 구현한다. 이 문제에서는 해밍거리를 사용하여 적합도 함수를 정의하였다."
      ]
    },
    {
      "cell_type": "code",
      "execution_count": null,
      "metadata": {
        "id": "bOu1u4hGTMo6"
      },
      "outputs": [],
      "source": [
        "def GetFitness(guess):\n",
        "    # 길이가 다르면 오류 발생 \n",
        "    assert len(guess) == len(Target)\n",
        "\n",
        "    # guess, target을 동시에 받아서 차이를 계산 \n",
        "    return sum(1 for exp, tar in zip(guess, Target) if exp != tar)"
      ]
    },
    {
      "cell_type": "markdown",
      "metadata": {
        "id": "OtWscEO00bJM"
      },
      "source": [
        "#### **초기 염색체의 집합 생성**"
      ]
    },
    {
      "cell_type": "markdown",
      "metadata": {
        "id": "gdXiXfcJSgJV"
      },
      "source": [
        "유전 알고리즘에서 사용될 염색체를 class 자료형으로 저장한다.(구조체로 다루기 위해서이고 다른 이유는 없음.)"
      ]
    },
    {
      "cell_type": "code",
      "execution_count": null,
      "metadata": {
        "id": "GOw9W1XN1sMx"
      },
      "outputs": [],
      "source": [
        "class Chromosome:\n",
        "    def __init__(self, genes, fitness):\n",
        "        self.Genes = genes\n",
        "        self.Fitness = fitness"
      ]
    },
    {
      "cell_type": "markdown",
      "metadata": {
        "id": "wlXagmI_SzuC"
      },
      "source": [
        "target의 길이만큼 GeneSet에서 문자를 가져온후, 문자열로 변환한다. 그리고 GetFitness 함수를 통해 현재 이 유전자가 얼마나 적합한지 구하고 class 자료형으로 반환한다."
      ]
    },
    {
      "cell_type": "code",
      "execution_count": null,
      "metadata": {
        "id": "VsqzV217DAT4"
      },
      "outputs": [],
      "source": [
        "# 주어진 length 길이만큼의 배열 생성\n",
        "def GetChromosome(target):\n",
        "    length = len(target)\n",
        "    gene = random.sample(GeneSet, length)\n",
        "    gene = ''.join(gene)\n",
        "    fitness = GetFitness(gene)\n",
        "    return Chromosome(gene, fitness)"
      ]
    },
    {
      "cell_type": "markdown",
      "metadata": {
        "id": "p3dxeYNZUXB8"
      },
      "source": [
        "아래는 후보가 후보(Chromosome)이 들어왔을 때, 그 유전자와 적합도를 출력하는 함수이이다."
      ]
    },
    {
      "cell_type": "code",
      "execution_count": null,
      "metadata": {
        "id": "yC6_JohEJaON"
      },
      "outputs": [],
      "source": [
        "from google.colab import output\n",
        "\n",
        "def display(candidate):\n",
        "    output.clear()\n",
        "    print(\"{}\\t{}\".format(candidate.Genes, candidate.Fitness))"
      ]
    },
    {
      "cell_type": "markdown",
      "metadata": {
        "id": "bpD6MFJkUfsX"
      },
      "source": [
        "#### **자식 생성**"
      ]
    },
    {
      "cell_type": "markdown",
      "metadata": {
        "id": "HzyexMmgUmKE"
      },
      "source": [
        "특정 확률로 특정 유전자에 변이를 갖고 있는 자식을 생성하는 함수이다."
      ]
    },
    {
      "cell_type": "code",
      "execution_count": null,
      "metadata": {
        "id": "_s7s2IDdMN4P"
      },
      "outputs": [],
      "source": [
        "def GetChild(parent):\n",
        "    index = random.randrange(0, len(parent.Genes))\n",
        "    \n",
        "    # DeepCopy\n",
        "    childGenes = list(parent.Genes)\n",
        "\n",
        "    # newGene이 기존에 있던 문자와 같을 수 있기에 예외 처리 필요함.\n",
        "    newGene, alternate = random.sample(GeneSet, 2)\n",
        "    childGenes[index] = alternate if newGene == childGenes[index] else newGene\n",
        "    \n",
        "    genes = ''.join(childGenes)\n",
        "    fitness = GetFitness(genes)\n",
        "    return Chromosome(genes, fitness)"
      ]
    },
    {
      "cell_type": "markdown",
      "metadata": {
        "id": "GFe5PF_KUtEc"
      },
      "source": [
        "#### **해 구하기기**"
      ]
    },
    {
      "cell_type": "markdown",
      "metadata": {
        "id": "dvTL9HCVUyF-"
      },
      "source": [
        "아래는 실제 값을 구하는 코드로 Daeshin이라는 Target을 잘 구하는 모습을 볼 수 있다."
      ]
    },
    {
      "cell_type": "code",
      "execution_count": null,
      "metadata": {
        "colab": {
          "base_uri": "https://localhost:8080/"
        },
        "id": "_gYAkfaLNoBb",
        "outputId": "15b2cf09-6909-4ed4-c5d1-20a6934dd9b1"
      },
      "outputs": [
        {
          "name": "stdout",
          "output_type": "stream",
          "text": [
            "Daeshin\t0\n"
          ]
        }
      ],
      "source": [
        "NowGene = GetChromosome(Target)\n",
        "display(NowGene)\n",
        "\n",
        "# 현재 보고있는 NowGene의 Fitness값이 OptimalFitness보다 작을 때까지\n",
        "while (OptimalFitness < NowGene.Fitness):\n",
        "    # 돌연변이 생성\n",
        "    ChildGene = GetChild(NowGene)\n",
        "    # 만약 돌연변이가 더 안좋으면 뒷과정 넘김\n",
        "    if (NowGene.Fitness < ChildGene.Fitness):\n",
        "        continue\n",
        "    display(ChildGene)\n",
        "    NowGene = ChildGene"
      ]
    },
    {
      "cell_type": "markdown",
      "metadata": {
        "id": "N-keX3YMOGZ0"
      },
      "source": [
        "## **문제 적용**"
      ]
    },
    {
      "cell_type": "markdown",
      "metadata": {
        "id": "LhrkNP72MSVU"
      },
      "source": [
        "위 예시를 바탕으로하여 이번 프로젝트에서 유전알고리즘을 적용해야할 문제상황은 다음과 같다.\n",
        "\n",
        "> 선생님은 한 교실에서 계속 수업하신다.</br>\n",
        "> 학생들은 각기다른 자신의 시간표에 맞추어 이동하여야 한다.</br>\n",
        "> 이때 학생의 이동량을 최소한으로 하여야한다.</br>\n"
      ]
    },
    {
      "cell_type": "code",
      "source": [
        "NUM_OF_CHROMOSOME = 20\n",
        "SWAP_THRESHOLD = 0.4"
      ],
      "metadata": {
        "id": "wklbtTrworHi"
      },
      "execution_count": null,
      "outputs": []
    },
    {
      "cell_type": "markdown",
      "metadata": {
        "id": "M-8ACiptOt9h"
      },
      "source": [
        "### **유전자 생성**"
      ]
    },
    {
      "cell_type": "markdown",
      "metadata": {
        "id": "cQJYNNIZIEne"
      },
      "source": [
        "가장 먼저 해야할 것은 염색체(내의 유전자)가 어떤 정보를 갖고 있어야 할지 정의하는 것이다. 이 문제를 해결하기 위해 유전자가 가지고 있어야 할 정보를 **'교실에서 무슨 수업이 이루어 지는가?'**로 설정하였다."
      ]
    },
    {
      "cell_type": "code",
      "execution_count": null,
      "metadata": {
        "id": "BWiUb0XFOw13"
      },
      "outputs": [],
      "source": [
        "class Chromosome():\n",
        "    def __init__(self, gene, fitness):\n",
        "        # gene은 각교실에서 어떤 수업이 진행되는지 알려주는 1차원 배열\n",
        "        self.Gene = gene\n",
        "        self.Fitness = fitness"
      ]
    },
    {
      "cell_type": "markdown",
      "metadata": {
        "id": "KWTCKzKEOJgx"
      },
      "source": [
        "### **적합도 함수 생성**"
      ]
    },
    {
      "cell_type": "markdown",
      "metadata": {
        "id": "up5008uEHZ8Y"
      },
      "source": [
        "유전자의 적합도를 측정하기 위해서 교실에서 어떤 수업이 진행되는지 알고있을 때, 학생들의 시간표를 이용하여 학생들의 평균적인 이동량을 계산하여 사용하려한다. "
      ]
    },
    {
      "cell_type": "markdown",
      "metadata": {
        "id": "nafOt4eoI-gm"
      },
      "source": [
        "다만, 이번 프로젝트에서 각 교실을 저장할 때에는 호수를 사용하지 않는다. 학교의 구조를 홈페이지에서 가져온 후 수업이 가능한 교실에 번호를 부여하였다. 그 결과는 사진과 같다. 이 작업을 통해 코딩할 때, 조금더 수월하게 작업할 수 있다는 장점이 있다.\n",
        "\n",
        "<img src=\"https://drive.google.com/uc?id=1QrT9NREYEflMTJ8b0ZGYtZyqRqqRfr72\" height=\"400\"/>"
      ]
    },
    {
      "cell_type": "markdown",
      "metadata": {
        "id": "7zzhYcQgJq5Y"
      },
      "source": [
        "아래 코드를 실행시키면, 프로젝트 진행을 위해 수집했던 데이터를 Colab 개발 환경으로 가져올 수 있다."
      ]
    },
    {
      "cell_type": "code",
      "execution_count": null,
      "metadata": {
        "colab": {
          "base_uri": "https://localhost:8080/"
        },
        "id": "PKbXa6bdNfez",
        "outputId": "48a27574-6b51-430a-d945-f4dce37010f8"
      },
      "outputs": [
        {
          "output_type": "stream",
          "name": "stdout",
          "text": [
            "--2022-07-09 14:29:37--  https://raw.githubusercontent.com/rzbsys/Genetic-Algorithm/main/graph.txt\n",
            "Resolving raw.githubusercontent.com (raw.githubusercontent.com)... 185.199.110.133, 185.199.109.133, 185.199.111.133, ...\n",
            "Connecting to raw.githubusercontent.com (raw.githubusercontent.com)|185.199.110.133|:443... connected.\n",
            "HTTP request sent, awaiting response... 200 OK\n",
            "Length: 595 [text/plain]\n",
            "Saving to: ‘graph.txt’\n",
            "\n",
            "\rgraph.txt             0%[                    ]       0  --.-KB/s               \rgraph.txt           100%[===================>]     595  --.-KB/s    in 0s      \n",
            "\n",
            "2022-07-09 14:29:37 (56.0 MB/s) - ‘graph.txt’ saved [595/595]\n",
            "\n",
            "--2022-07-09 14:29:37--  https://raw.githubusercontent.com/rzbsys/Genetic-Algorithm/main/timetable.csv\n",
            "Resolving raw.githubusercontent.com (raw.githubusercontent.com)... 185.199.108.133, 185.199.109.133, 185.199.110.133, ...\n",
            "Connecting to raw.githubusercontent.com (raw.githubusercontent.com)|185.199.108.133|:443... connected.\n",
            "HTTP request sent, awaiting response... 200 OK\n",
            "Length: 177166 (173K) [text/plain]\n",
            "Saving to: ‘timetable.csv’\n",
            "\n",
            "timetable.csv       100%[===================>] 173.01K  --.-KB/s    in 0.003s  \n",
            "\n",
            "2022-07-09 14:29:37 (51.7 MB/s) - ‘timetable.csv’ saved [177166/177166]\n",
            "\n"
          ]
        }
      ],
      "source": [
        "# 교실간의 연결 관계를 나타내는 데이터\n",
        "!wget -O graph.txt https://raw.githubusercontent.com/rzbsys/Genetic-Algorithm/main/graph.txt\n",
        "# 학생들의 시간표 정보가 담긴 데이터\n",
        "!wget -O timetable.csv https://raw.githubusercontent.com/rzbsys/Genetic-Algorithm/main/timetable.csv"
      ]
    },
    {
      "cell_type": "markdown",
      "metadata": {
        "id": "ExYzQwppJ5RR"
      },
      "source": [
        "아래는 문제상황에 유전 알고리즘을 사용하기 위해 필요한 변수를 미리 정의해놓은 것이다. 의미는 아래와 같다.\n",
        "\n",
        "> **MAX_NODE** : 최대 교실수(그래프의 노드)를 의미하며 교실간의 연결 관계를 표현하는 인접리스트 배열의 최대 크기를 정의할 때 사용한다.<br/>\n",
        "> **INF** : Floyd-Warshall로 최단경로를 구할 때, 초기 Timestep에서 갈 수 없는 곳은 무한으로 표현하여야 하는데, 이 때의 값을 이 변수로 사용한다.</br>\n",
        "> **MAX_CNT** : 시간표에 요일별로 몇 교시까지 표시되어있는지 저장되어있는 변수로, 시간표 데이터를 가져오고 요일별로 분류할 때 사용된다.\n",
        "\n"
      ]
    },
    {
      "cell_type": "code",
      "execution_count": null,
      "metadata": {
        "id": "lIGk9d9wSIU7"
      },
      "outputs": [],
      "source": [
        "MAX_NODE = 79\n",
        "INF = 2000000\n",
        "MAX_CNT = [7, 7, 4, 7, 7]"
      ]
    },
    {
      "cell_type": "markdown",
      "metadata": {
        "id": "89YYfd8eLl1i"
      },
      "source": [
        "아래는 교실간의 연결정보가 아래와 같이 표현되어있을때, 이를 인접리스트로 변환해주는 함수이다.\n",
        "\n",
        "```\n",
        "1 2\n",
        "2 3\n",
        "5 3\n",
        "...\n",
        "```"
      ]
    },
    {
      "cell_type": "code",
      "execution_count": null,
      "metadata": {
        "colab": {
          "base_uri": "https://localhost:8080/"
        },
        "id": "LC0KRpvCOV1L",
        "outputId": "d83460e8-1f59-409c-fd15-4adc5fb6a9b4"
      },
      "outputs": [
        {
          "output_type": "stream",
          "name": "stdout",
          "text": [
            "62와 62 교실을 이동하는데 드는 비용 : 1.0\n",
            "62와 64 교실을 이동하는데 드는 비용 : -1.0\n"
          ]
        }
      ],
      "source": [
        "import numpy as np\n",
        "\n",
        "def LoadInitGraph(max_cnt, source):\n",
        "    graph = np.ones((max_cnt + 1, max_cnt + 1))\n",
        "    # 모든 배열을 -1로 초기화\n",
        "    # -1은 갈수 없음을 의미한다.\n",
        "    graph = graph * -1\n",
        "    \n",
        "    with open(source, 'r') as f:\n",
        "        while True:\n",
        "            line = f.readline()\n",
        "            if not line:\n",
        "                break\n",
        "\n",
        "            start, to = line.split(' ')\n",
        "            start = int(start)\n",
        "            to = int(to)\n",
        "            # cost를 교실간의 거리로 업데이트하면 정확도가 높아질수 있음.\n",
        "            # 추후 누군가 해주지 않을까...\n",
        "            cost = 1\n",
        "\n",
        "            # 양방향 그래프\n",
        "            graph[start][to] = cost\n",
        "            graph[to][start] = cost\n",
        "    \n",
        "    # 자기 자신으로 가는 최소비용은 0이다.\n",
        "    for i in range(max_cnt + 1):\n",
        "        graph[i][i] = 0\n",
        "\n",
        "    return graph\n",
        "\n",
        "SchoolGraph = LoadInitGraph(MAX_NODE, '/content/graph.txt')\n",
        "\n",
        "# 이동 가능\n",
        "print('62와 62 교실을 이동하는데 드는 비용 :', SchoolGraph[62][63])\n",
        "# 이동 불가능\n",
        "print('62와 64 교실을 이동하는데 드는 비용 :', SchoolGraph[62][64])"
      ]
    },
    {
      "cell_type": "markdown",
      "metadata": {
        "id": "gcK7_njAMB6L"
      },
      "source": [
        "아래 함수는 Floyd-Warshall 알고리즘의 결과를 반환하는 것으로 3중 반복문을 사용하여 쉽게 최단경로를 구해준다. "
      ]
    },
    {
      "cell_type": "code",
      "execution_count": null,
      "metadata": {
        "colab": {
          "base_uri": "https://localhost:8080/"
        },
        "id": "ogfzqaSsVl3t",
        "outputId": "46a99aef-e5e5-4752-9563-83508ab54214"
      },
      "outputs": [
        {
          "output_type": "stream",
          "name": "stdout",
          "text": [
            "유도실에서 생명과학실까지 최단경로 : 4.0\n"
          ]
        }
      ],
      "source": [
        "def FloydWarshall(graph, max_cnt):\n",
        "    # 배열 초기화\n",
        "    dist = np.where(graph == -1, INF, graph)\n",
        "    \n",
        "    # 3줄로 간단하게 모든 노드간의 최단경로를 찾아주는 FloydWarshall 알고리즘\n",
        "    for i in range(max_cnt + 1):\n",
        "        for t in range(max_cnt + 1):\n",
        "            for j in range(max_cnt + 1):\n",
        "                if dist[t][i] + dist[i][j] < dist[t][j]:\n",
        "                    dist[t][j] = dist[t][i] + dist[i][j]\n",
        "\n",
        "    return dist\n",
        "\n",
        "DistGraph = FloydWarshall(SchoolGraph, MAX_NODE)\n",
        "print('유도실에서 생명과학실까지 최단경로 :', DistGraph[1][19])"
      ]
    },
    {
      "cell_type": "markdown",
      "metadata": {
        "id": "NYNJgK1eM0UZ"
      },
      "source": [
        "아래 함수는 시간표를 불러온 후, 이를 요일별로 나누어주는 역할을 수행한다."
      ]
    },
    {
      "cell_type": "code",
      "execution_count": null,
      "metadata": {
        "colab": {
          "base_uri": "https://localhost:8080/",
          "height": 224
        },
        "id": "iRheTODTVksZ",
        "outputId": "1fc9f04c-5419-4877-c435-f3691ee486d5"
      },
      "outputs": [
        {
          "output_type": "stream",
          "name": "stdout",
          "text": [
            "월요일 시간표 5개\n"
          ]
        },
        {
          "output_type": "execute_result",
          "data": {
            "text/plain": [
              "             0           1           2          3           4           5  \\\n",
              "0   생활과 과학/225    한국지리/421    일본어Ⅰ/423     문학/321     수학Ⅰ/420  생활과 윤리/324   \n",
              "1  사회문제 탐구/421   영어 회화/222     영어Ⅰ/314     문학/321  생활과 윤리/324   운동과 건강/-1   \n",
              "2      영어Ⅰ/222  생활과 윤리/324  화법과 작문/321    수학Ⅰ/413    중국어Ⅰ/404     화학Ⅰ/423   \n",
              "3  사회문제 탐구/421     수학Ⅰ/420  화법과 작문/321     문학/321   정치와 법/422     영어Ⅰ/314   \n",
              "4        수학Ⅰ/0     화학Ⅰ/423      문학/323  실용 수학/322     영어Ⅰ/314   지구과학Ⅰ/216   \n",
              "\n",
              "           6  \n",
              "0    영어Ⅰ/422  \n",
              "1    수학Ⅰ/413  \n",
              "2     문학/321  \n",
              "3  운동과 건강/-1  \n",
              "4   일본어Ⅰ/423  "
            ],
            "text/html": [
              "\n",
              "  <div id=\"df-adf2b97c-0949-4096-85d0-7a1ee67d8ef1\">\n",
              "    <div class=\"colab-df-container\">\n",
              "      <div>\n",
              "<style scoped>\n",
              "    .dataframe tbody tr th:only-of-type {\n",
              "        vertical-align: middle;\n",
              "    }\n",
              "\n",
              "    .dataframe tbody tr th {\n",
              "        vertical-align: top;\n",
              "    }\n",
              "\n",
              "    .dataframe thead th {\n",
              "        text-align: right;\n",
              "    }\n",
              "</style>\n",
              "<table border=\"1\" class=\"dataframe\">\n",
              "  <thead>\n",
              "    <tr style=\"text-align: right;\">\n",
              "      <th></th>\n",
              "      <th>0</th>\n",
              "      <th>1</th>\n",
              "      <th>2</th>\n",
              "      <th>3</th>\n",
              "      <th>4</th>\n",
              "      <th>5</th>\n",
              "      <th>6</th>\n",
              "    </tr>\n",
              "  </thead>\n",
              "  <tbody>\n",
              "    <tr>\n",
              "      <th>0</th>\n",
              "      <td>생활과 과학/225</td>\n",
              "      <td>한국지리/421</td>\n",
              "      <td>일본어Ⅰ/423</td>\n",
              "      <td>문학/321</td>\n",
              "      <td>수학Ⅰ/420</td>\n",
              "      <td>생활과 윤리/324</td>\n",
              "      <td>영어Ⅰ/422</td>\n",
              "    </tr>\n",
              "    <tr>\n",
              "      <th>1</th>\n",
              "      <td>사회문제 탐구/421</td>\n",
              "      <td>영어 회화/222</td>\n",
              "      <td>영어Ⅰ/314</td>\n",
              "      <td>문학/321</td>\n",
              "      <td>생활과 윤리/324</td>\n",
              "      <td>운동과 건강/-1</td>\n",
              "      <td>수학Ⅰ/413</td>\n",
              "    </tr>\n",
              "    <tr>\n",
              "      <th>2</th>\n",
              "      <td>영어Ⅰ/222</td>\n",
              "      <td>생활과 윤리/324</td>\n",
              "      <td>화법과 작문/321</td>\n",
              "      <td>수학Ⅰ/413</td>\n",
              "      <td>중국어Ⅰ/404</td>\n",
              "      <td>화학Ⅰ/423</td>\n",
              "      <td>문학/321</td>\n",
              "    </tr>\n",
              "    <tr>\n",
              "      <th>3</th>\n",
              "      <td>사회문제 탐구/421</td>\n",
              "      <td>수학Ⅰ/420</td>\n",
              "      <td>화법과 작문/321</td>\n",
              "      <td>문학/321</td>\n",
              "      <td>정치와 법/422</td>\n",
              "      <td>영어Ⅰ/314</td>\n",
              "      <td>운동과 건강/-1</td>\n",
              "    </tr>\n",
              "    <tr>\n",
              "      <th>4</th>\n",
              "      <td>수학Ⅰ/0</td>\n",
              "      <td>화학Ⅰ/423</td>\n",
              "      <td>문학/323</td>\n",
              "      <td>실용 수학/322</td>\n",
              "      <td>영어Ⅰ/314</td>\n",
              "      <td>지구과학Ⅰ/216</td>\n",
              "      <td>일본어Ⅰ/423</td>\n",
              "    </tr>\n",
              "  </tbody>\n",
              "</table>\n",
              "</div>\n",
              "      <button class=\"colab-df-convert\" onclick=\"convertToInteractive('df-adf2b97c-0949-4096-85d0-7a1ee67d8ef1')\"\n",
              "              title=\"Convert this dataframe to an interactive table.\"\n",
              "              style=\"display:none;\">\n",
              "        \n",
              "  <svg xmlns=\"http://www.w3.org/2000/svg\" height=\"24px\"viewBox=\"0 0 24 24\"\n",
              "       width=\"24px\">\n",
              "    <path d=\"M0 0h24v24H0V0z\" fill=\"none\"/>\n",
              "    <path d=\"M18.56 5.44l.94 2.06.94-2.06 2.06-.94-2.06-.94-.94-2.06-.94 2.06-2.06.94zm-11 1L8.5 8.5l.94-2.06 2.06-.94-2.06-.94L8.5 2.5l-.94 2.06-2.06.94zm10 10l.94 2.06.94-2.06 2.06-.94-2.06-.94-.94-2.06-.94 2.06-2.06.94z\"/><path d=\"M17.41 7.96l-1.37-1.37c-.4-.4-.92-.59-1.43-.59-.52 0-1.04.2-1.43.59L10.3 9.45l-7.72 7.72c-.78.78-.78 2.05 0 2.83L4 21.41c.39.39.9.59 1.41.59.51 0 1.02-.2 1.41-.59l7.78-7.78 2.81-2.81c.8-.78.8-2.07 0-2.86zM5.41 20L4 18.59l7.72-7.72 1.47 1.35L5.41 20z\"/>\n",
              "  </svg>\n",
              "      </button>\n",
              "      \n",
              "  <style>\n",
              "    .colab-df-container {\n",
              "      display:flex;\n",
              "      flex-wrap:wrap;\n",
              "      gap: 12px;\n",
              "    }\n",
              "\n",
              "    .colab-df-convert {\n",
              "      background-color: #E8F0FE;\n",
              "      border: none;\n",
              "      border-radius: 50%;\n",
              "      cursor: pointer;\n",
              "      display: none;\n",
              "      fill: #1967D2;\n",
              "      height: 32px;\n",
              "      padding: 0 0 0 0;\n",
              "      width: 32px;\n",
              "    }\n",
              "\n",
              "    .colab-df-convert:hover {\n",
              "      background-color: #E2EBFA;\n",
              "      box-shadow: 0px 1px 2px rgba(60, 64, 67, 0.3), 0px 1px 3px 1px rgba(60, 64, 67, 0.15);\n",
              "      fill: #174EA6;\n",
              "    }\n",
              "\n",
              "    [theme=dark] .colab-df-convert {\n",
              "      background-color: #3B4455;\n",
              "      fill: #D2E3FC;\n",
              "    }\n",
              "\n",
              "    [theme=dark] .colab-df-convert:hover {\n",
              "      background-color: #434B5C;\n",
              "      box-shadow: 0px 1px 3px 1px rgba(0, 0, 0, 0.15);\n",
              "      filter: drop-shadow(0px 1px 2px rgba(0, 0, 0, 0.3));\n",
              "      fill: #FFFFFF;\n",
              "    }\n",
              "  </style>\n",
              "\n",
              "      <script>\n",
              "        const buttonEl =\n",
              "          document.querySelector('#df-adf2b97c-0949-4096-85d0-7a1ee67d8ef1 button.colab-df-convert');\n",
              "        buttonEl.style.display =\n",
              "          google.colab.kernel.accessAllowed ? 'block' : 'none';\n",
              "\n",
              "        async function convertToInteractive(key) {\n",
              "          const element = document.querySelector('#df-adf2b97c-0949-4096-85d0-7a1ee67d8ef1');\n",
              "          const dataTable =\n",
              "            await google.colab.kernel.invokeFunction('convertToInteractive',\n",
              "                                                     [key], {});\n",
              "          if (!dataTable) return;\n",
              "\n",
              "          const docLinkHtml = 'Like what you see? Visit the ' +\n",
              "            '<a target=\"_blank\" href=https://colab.research.google.com/notebooks/data_table.ipynb>data table notebook</a>'\n",
              "            + ' to learn more about interactive tables.';\n",
              "          element.innerHTML = '';\n",
              "          dataTable['output_type'] = 'display_data';\n",
              "          await google.colab.output.renderOutput(dataTable, element);\n",
              "          const docLink = document.createElement('div');\n",
              "          docLink.innerHTML = docLinkHtml;\n",
              "          element.appendChild(docLink);\n",
              "        }\n",
              "      </script>\n",
              "    </div>\n",
              "  </div>\n",
              "  "
            ]
          },
          "metadata": {},
          "execution_count": 132
        }
      ],
      "source": [
        "import pandas as pd\n",
        "\n",
        "def LoadTimetable(source):\n",
        "    df = pd.read_csv(source, header=None)\n",
        "    period_list = []\n",
        "    for index, item in enumerate(MAX_CNT):\n",
        "        start_index = sum(MAX_CNT[:index])\n",
        "        temp = df[range(start_index, start_index + item)]\n",
        "        period_list.append(temp)\n",
        "    return period_list\n",
        "\n",
        "Timetable  = LoadTimetable('/content/timetable.csv')\n",
        "print('월요일 시간표 5개')\n",
        "Timetable[0].head()"
      ]
    },
    {
      "cell_type": "markdown",
      "metadata": {
        "id": "on28ZbN2NF5S"
      },
      "source": [
        "아래 함수는 시간표를 참고하여 모든 수업이 담겨있는 집합을 생성하고, 이를 Python의 Dict자료형으로 저장하는 역할을 수행한다."
      ]
    },
    {
      "cell_type": "code",
      "execution_count": null,
      "metadata": {
        "colab": {
          "base_uri": "https://localhost:8080/"
        },
        "id": "5tICjQdcDygX",
        "outputId": "b618814e-e4e1-4693-ced7-0a1cffdceda1"
      },
      "outputs": [
        {
          "output_type": "stream",
          "name": "stdout",
          "text": [
            "전체 수업 개수 : 41\n",
            "수업 목록 : {'창체/223': 0, '수학Ⅰ/420': 1, '화학Ⅰ/214': 2, '문학/323': 3, '창체/421': 4, '창체/324': 5, '인문학/302': 6, '창체/413': 7, '창체/321': 8, '생활과 윤리/324': 9, '영어Ⅰ/222': 10, '영미 문학 읽기/422': 11, '화학Ⅰ/423': 12, '한국지리/421': 13, '문학/223': 14, '창체/322': 15, '일본어Ⅰ/423': 16, '수학Ⅰ/413': 17, '인문학/415': 18, '실용 수학/322': 19, '영어Ⅰ/314': 20, '생명과학Ⅰ/216': 21, '물리학Ⅰ/211': 22, '창체/314': 23, '물리학Ⅰ/414': 24, '화법과 작문/321': 25, '정치와 법/422': 26, '영어Ⅰ/422': 27, '미술/114': 28, '창체/420': 29, '사회문제 탐구/421': 30, '지구과학Ⅰ/216': 31, '수학Ⅰ/0': 32, '문학/321': 33, '창의경영/312': 34, '공학 일반/407': 35, '영어 회화/222': 36, '사회문제 탐구/127': 37, '생활과 과학/225': 38, '중국어Ⅰ/404': 39, '창체/423': 40}\n"
          ]
        }
      ],
      "source": [
        "def ExtractSubject(timetable):\n",
        "    subject = set()\n",
        "    def extract(inp):\n",
        "        if '-1' in inp:\n",
        "            return\n",
        "        subject.add(inp)\n",
        "\n",
        "    for i in timetable:\n",
        "        i.applymap(extract)\n",
        "    \n",
        "    res = dict()\n",
        "    for index, item in enumerate(subject):\n",
        "        res[item] = index\n",
        "    return res\n",
        "\n",
        "Subject = ExtractSubject(Timetable)\n",
        "\n",
        "print('전체 수업 개수 :', len(Subject))\n",
        "print('수업 목록 :', Subject)"
      ]
    },
    {
      "cell_type": "markdown",
      "metadata": {
        "id": "OPI0T0uLNRP2"
      },
      "source": [
        "아래 코드드는 Dict로 변환한 자료를 참고하여 시간표를 모두 숫자로 바꾸는 역할을 수행한다."
      ]
    },
    {
      "cell_type": "code",
      "execution_count": null,
      "metadata": {
        "colab": {
          "base_uri": "https://localhost:8080/",
          "height": 224
        },
        "id": "VikN-EL6bEVZ",
        "outputId": "7a9527f7-7db3-4823-936e-6bad3db3cbbc"
      },
      "outputs": [
        {
          "output_type": "stream",
          "name": "stdout",
          "text": [
            "번호가 부여된 월요일 시간표\n"
          ]
        },
        {
          "output_type": "execute_result",
          "data": {
            "text/plain": [
              "    0   1   2   3   4   5   6\n",
              "0  38  13  16  33   1   9  27\n",
              "1  30  36  20  33   9  -1  17\n",
              "2  10   9  25  17  39  12  33\n",
              "3  30   1  25  33  26  20  -1\n",
              "4  32  12   3  19  20  31  16"
            ],
            "text/html": [
              "\n",
              "  <div id=\"df-ce303a04-169f-4cfd-a780-da373fdd4f29\">\n",
              "    <div class=\"colab-df-container\">\n",
              "      <div>\n",
              "<style scoped>\n",
              "    .dataframe tbody tr th:only-of-type {\n",
              "        vertical-align: middle;\n",
              "    }\n",
              "\n",
              "    .dataframe tbody tr th {\n",
              "        vertical-align: top;\n",
              "    }\n",
              "\n",
              "    .dataframe thead th {\n",
              "        text-align: right;\n",
              "    }\n",
              "</style>\n",
              "<table border=\"1\" class=\"dataframe\">\n",
              "  <thead>\n",
              "    <tr style=\"text-align: right;\">\n",
              "      <th></th>\n",
              "      <th>0</th>\n",
              "      <th>1</th>\n",
              "      <th>2</th>\n",
              "      <th>3</th>\n",
              "      <th>4</th>\n",
              "      <th>5</th>\n",
              "      <th>6</th>\n",
              "    </tr>\n",
              "  </thead>\n",
              "  <tbody>\n",
              "    <tr>\n",
              "      <th>0</th>\n",
              "      <td>38</td>\n",
              "      <td>13</td>\n",
              "      <td>16</td>\n",
              "      <td>33</td>\n",
              "      <td>1</td>\n",
              "      <td>9</td>\n",
              "      <td>27</td>\n",
              "    </tr>\n",
              "    <tr>\n",
              "      <th>1</th>\n",
              "      <td>30</td>\n",
              "      <td>36</td>\n",
              "      <td>20</td>\n",
              "      <td>33</td>\n",
              "      <td>9</td>\n",
              "      <td>-1</td>\n",
              "      <td>17</td>\n",
              "    </tr>\n",
              "    <tr>\n",
              "      <th>2</th>\n",
              "      <td>10</td>\n",
              "      <td>9</td>\n",
              "      <td>25</td>\n",
              "      <td>17</td>\n",
              "      <td>39</td>\n",
              "      <td>12</td>\n",
              "      <td>33</td>\n",
              "    </tr>\n",
              "    <tr>\n",
              "      <th>3</th>\n",
              "      <td>30</td>\n",
              "      <td>1</td>\n",
              "      <td>25</td>\n",
              "      <td>33</td>\n",
              "      <td>26</td>\n",
              "      <td>20</td>\n",
              "      <td>-1</td>\n",
              "    </tr>\n",
              "    <tr>\n",
              "      <th>4</th>\n",
              "      <td>32</td>\n",
              "      <td>12</td>\n",
              "      <td>3</td>\n",
              "      <td>19</td>\n",
              "      <td>20</td>\n",
              "      <td>31</td>\n",
              "      <td>16</td>\n",
              "    </tr>\n",
              "  </tbody>\n",
              "</table>\n",
              "</div>\n",
              "      <button class=\"colab-df-convert\" onclick=\"convertToInteractive('df-ce303a04-169f-4cfd-a780-da373fdd4f29')\"\n",
              "              title=\"Convert this dataframe to an interactive table.\"\n",
              "              style=\"display:none;\">\n",
              "        \n",
              "  <svg xmlns=\"http://www.w3.org/2000/svg\" height=\"24px\"viewBox=\"0 0 24 24\"\n",
              "       width=\"24px\">\n",
              "    <path d=\"M0 0h24v24H0V0z\" fill=\"none\"/>\n",
              "    <path d=\"M18.56 5.44l.94 2.06.94-2.06 2.06-.94-2.06-.94-.94-2.06-.94 2.06-2.06.94zm-11 1L8.5 8.5l.94-2.06 2.06-.94-2.06-.94L8.5 2.5l-.94 2.06-2.06.94zm10 10l.94 2.06.94-2.06 2.06-.94-2.06-.94-.94-2.06-.94 2.06-2.06.94z\"/><path d=\"M17.41 7.96l-1.37-1.37c-.4-.4-.92-.59-1.43-.59-.52 0-1.04.2-1.43.59L10.3 9.45l-7.72 7.72c-.78.78-.78 2.05 0 2.83L4 21.41c.39.39.9.59 1.41.59.51 0 1.02-.2 1.41-.59l7.78-7.78 2.81-2.81c.8-.78.8-2.07 0-2.86zM5.41 20L4 18.59l7.72-7.72 1.47 1.35L5.41 20z\"/>\n",
              "  </svg>\n",
              "      </button>\n",
              "      \n",
              "  <style>\n",
              "    .colab-df-container {\n",
              "      display:flex;\n",
              "      flex-wrap:wrap;\n",
              "      gap: 12px;\n",
              "    }\n",
              "\n",
              "    .colab-df-convert {\n",
              "      background-color: #E8F0FE;\n",
              "      border: none;\n",
              "      border-radius: 50%;\n",
              "      cursor: pointer;\n",
              "      display: none;\n",
              "      fill: #1967D2;\n",
              "      height: 32px;\n",
              "      padding: 0 0 0 0;\n",
              "      width: 32px;\n",
              "    }\n",
              "\n",
              "    .colab-df-convert:hover {\n",
              "      background-color: #E2EBFA;\n",
              "      box-shadow: 0px 1px 2px rgba(60, 64, 67, 0.3), 0px 1px 3px 1px rgba(60, 64, 67, 0.15);\n",
              "      fill: #174EA6;\n",
              "    }\n",
              "\n",
              "    [theme=dark] .colab-df-convert {\n",
              "      background-color: #3B4455;\n",
              "      fill: #D2E3FC;\n",
              "    }\n",
              "\n",
              "    [theme=dark] .colab-df-convert:hover {\n",
              "      background-color: #434B5C;\n",
              "      box-shadow: 0px 1px 3px 1px rgba(0, 0, 0, 0.15);\n",
              "      filter: drop-shadow(0px 1px 2px rgba(0, 0, 0, 0.3));\n",
              "      fill: #FFFFFF;\n",
              "    }\n",
              "  </style>\n",
              "\n",
              "      <script>\n",
              "        const buttonEl =\n",
              "          document.querySelector('#df-ce303a04-169f-4cfd-a780-da373fdd4f29 button.colab-df-convert');\n",
              "        buttonEl.style.display =\n",
              "          google.colab.kernel.accessAllowed ? 'block' : 'none';\n",
              "\n",
              "        async function convertToInteractive(key) {\n",
              "          const element = document.querySelector('#df-ce303a04-169f-4cfd-a780-da373fdd4f29');\n",
              "          const dataTable =\n",
              "            await google.colab.kernel.invokeFunction('convertToInteractive',\n",
              "                                                     [key], {});\n",
              "          if (!dataTable) return;\n",
              "\n",
              "          const docLinkHtml = 'Like what you see? Visit the ' +\n",
              "            '<a target=\"_blank\" href=https://colab.research.google.com/notebooks/data_table.ipynb>data table notebook</a>'\n",
              "            + ' to learn more about interactive tables.';\n",
              "          element.innerHTML = '';\n",
              "          dataTable['output_type'] = 'display_data';\n",
              "          await google.colab.output.renderOutput(dataTable, element);\n",
              "          const docLink = document.createElement('div');\n",
              "          docLink.innerHTML = docLinkHtml;\n",
              "          element.appendChild(docLink);\n",
              "        }\n",
              "      </script>\n",
              "    </div>\n",
              "  </div>\n",
              "  "
            ]
          },
          "metadata": {},
          "execution_count": 166
        }
      ],
      "source": [
        "# 과목명을 위에서 정의한 과목 숫자로 변경\n",
        "def ConvertStringToNumber(inp):\n",
        "    try:\n",
        "        return Subject[inp]\n",
        "    except:\n",
        "        return -1\n",
        "\n",
        "IndexedTimetable = []\n",
        "for i in range(len(Timetable)):\n",
        "    IndexedTimetable.append(Timetable[i].applymap(ConvertStringToNumber))\n",
        "\n",
        "print(\"번호가 부여된 월요일 시간표\")\n",
        "IndexedTimetable[0].head()"
      ]
    },
    {
      "cell_type": "code",
      "execution_count": null,
      "metadata": {
        "id": "mWshHiLjQIYk"
      },
      "outputs": [],
      "source": [
        "def GetFitness(gene):\n",
        "    fitness = 0\n",
        "    for timetable in IndexedTimetable:\n",
        "        for subject_list in timetable.iterrows():\n",
        "            for index in range(len(subject_list[1]) - 1):\n",
        "                before_sub = subject_list[1][index]\n",
        "                after_sub = subject_list[1][index + 1]\n",
        "\n",
        "                if before_sub == -1 or after_sub == -1:\n",
        "                    continue\n",
        "\n",
        "                before_cls = gene[before_sub]\n",
        "                after_cls = gene[after_sub]\n",
        "\n",
        "                dist = DistGraph[before_cls][after_cls]\n",
        "\n",
        "                fitness = (fitness + dist)\n",
        "        return fitness"
      ]
    },
    {
      "cell_type": "markdown",
      "metadata": {
        "id": "OrWx9357ZULm"
      },
      "source": [
        "### **초기 염색체 생성 과정**"
      ]
    },
    {
      "cell_type": "code",
      "execution_count": null,
      "metadata": {
        "id": "dUHGIbmmu8D0"
      },
      "outputs": [],
      "source": [
        "def GenerateGenesis(max_len, num):\n",
        "    population = []\n",
        "    for _ in range(num):\n",
        "        gene = np.random.choice(range(1, max_len + 1), max_len, replace=False)\n",
        "        fitness = GetFitness(gene)\n",
        "        population += [Chromosome(gene, fitness)]\n",
        "    return population"
      ]
    },
    {
      "cell_type": "markdown",
      "metadata": {
        "id": "yswLQEtQZhJO"
      },
      "source": [
        "### **다음세대 부모가 될 염색체의 선택 과정**"
      ]
    },
    {
      "cell_type": "markdown",
      "metadata": {
        "id": "TWcJGXQxZ1SV"
      },
      "source": [
        "룰렛휠 방식을 사용하여 다음 세대의 유전자를 결정한다."
      ]
    },
    {
      "cell_type": "code",
      "execution_count": null,
      "metadata": {
        "id": "GUUJe4Wma15J"
      },
      "outputs": [],
      "source": [
        "def Selection(population_set):\n",
        "    # 점수가 높을 수록 안좋은 유전자이기에 역수를 취해 바꾸어줌.\n",
        "    fitness_list = [1 / population_set[i].Fitness for i in range(len(population_set))]\n",
        "    total_fitness = np.sum(fitness_list)\n",
        "    prob_list = fitness_list / total_fitness\n",
        "    \n",
        "    # 두 집단을 선택하고 두 집단을 Crossover할 예정\n",
        "    progenitor_list_a = np.random.choice(list(range(len(population_set))), len(population_set), p=prob_list, replace=True)\n",
        "    progenitor_list_b = np.random.choice(list(range(len(population_set))), len(population_set), p=prob_list, replace=True)\n",
        "    \n",
        "    progenitor_a = []\n",
        "    progenitor_b = []\n",
        "    for i in progenitor_list_a:\n",
        "        progenitor_a += [population_set[i]]\n",
        "\n",
        "    for i in progenitor_list_b:\n",
        "        progenitor_b += [population_set[i]]\n",
        "    \n",
        "    return [progenitor_a, progenitor_b]"
      ]
    },
    {
      "cell_type": "markdown",
      "metadata": {
        "id": "TjkE36qUYvP2"
      },
      "source": [
        "### **Crossver 연산 과정**"
      ]
    },
    {
      "cell_type": "markdown",
      "metadata": {
        "id": "qoTIdVHLY8Pk"
      },
      "source": [
        "이 문제에서 사용된 유전자의 정보는 일종의 행렬로 중복될 수 없다. 따라서 유전 알고리즘에서 가장 많이 사용되는 일점교차를 사용할 수 없다. 이를 해결하기 위해 싸이클 교차(Cycle Crossover)를 사용하여 구현하였다."
      ]
    },
    {
      "cell_type": "code",
      "execution_count": null,
      "metadata": {
        "id": "25TYgxNzYvBx"
      },
      "outputs": [],
      "source": [
        "def CycleCrossover(chromosome1, chromosome2):\n",
        "    gene1 = chromosome1.Gene\n",
        "    gene2 = chromosome2.Gene\n",
        "    child = [-1] * len(gene1)\n",
        "\n",
        "    for index in range(len(child)):\n",
        "        # 홀수번 일때마다 바꿔줌 \n",
        "        if index % 2 == 1:\n",
        "            gene1, gene2 = gene2, gene1\n",
        "\n",
        "        search_point = index\n",
        "\n",
        "        while True:\n",
        "            child[search_point] = gene1[search_point]\n",
        "            next = gene2[search_point]\n",
        "            search_point = np.where(gene1 == next)[0][0]\n",
        "            # index가 처음 시작 위치와 같다면 종료\n",
        "            if search_point == index:\n",
        "                break\n",
        "    fitness = GetFitness(child)\n",
        "    return Chromosome(child, fitness)"
      ]
    },
    {
      "cell_type": "markdown",
      "metadata": {
        "id": "2TzG2_t_ib3U"
      },
      "source": [
        "### **돌연변이이 연산 과정**"
      ]
    },
    {
      "cell_type": "markdown",
      "metadata": {
        "id": "P6qnfOKOif4J"
      },
      "source": [
        "이 문제를 해결할 때 역시 유전자 배열의 순서를 고려해야 하기에 일반적으로 사용하는 Random Resetting이나 Inversion Mutation을 사용하는 것이 불가능하다. 따라서 Swap Mutation을 사용하였다."
      ]
    },
    {
      "cell_type": "code",
      "execution_count": null,
      "metadata": {
        "id": "7rkLlv7JierV"
      },
      "outputs": [],
      "source": [
        "import random\n",
        "\n",
        "def SwapMutation(chromosomes):\n",
        "    gene = chromosomes.Gene\n",
        "    \n",
        "    percentage = random.random()\n",
        "    if (percentage <= SWAP_THRESHOLD):\n",
        "        point1, point2 = np.random.choice(range(len(gene)), 2, replace=False)\n",
        "        gene[point1], gene[point2] = gene[point2], gene[point1]\n",
        "    \n",
        "    fitness = GetFitness(gene)\n",
        "    return Chromosome(gene, fitness)"
      ]
    },
    {
      "cell_type": "markdown",
      "metadata": {
        "id": "B_QYm6RGYdf5"
      },
      "source": [
        "### **유전 알고리즘 수행**"
      ]
    },
    {
      "cell_type": "code",
      "execution_count": null,
      "metadata": {
        "id": "6HD8pujHnDt9",
        "colab": {
          "base_uri": "https://localhost:8080/"
        },
        "outputId": "fbbadd68-ac31-4089-beb1-536d30371ec9"
      },
      "outputs": [
        {
          "output_type": "stream",
          "name": "stdout",
          "text": [
            "1번 : 9650\n",
            "update!\n",
            "2번 : 9658\n",
            "3번 : 9484\n",
            "update!\n",
            "4번 : 9367\n",
            "update!\n",
            "5번 : 9098\n",
            "update!\n",
            "6번 : 9161\n",
            "7번 : 8982\n",
            "update!\n",
            "8번 : 8997\n",
            "9번 : 9119\n",
            "10번 : 9119\n",
            "11번 : 9119\n",
            "12번 : 9409\n",
            "13번 : 9271\n",
            "14번 : 9806\n",
            "15번 : 9735\n",
            "16번 : 9735\n",
            "17번 : 9580\n",
            "18번 : 9180\n",
            "19번 : 9183\n",
            "20번 : 9544\n",
            "21번 : 9551\n",
            "22번 : 9551\n",
            "23번 : 9232\n",
            "24번 : 8957\n",
            "update!\n",
            "25번 : 8766\n",
            "update!\n",
            "26번 : 8490\n",
            "update!\n",
            "27번 : 8875\n",
            "28번 : 8875\n",
            "29번 : 8896\n",
            "30번 : 8648\n",
            "31번 : 8817\n",
            "32번 : 8868\n",
            "33번 : 8842\n",
            "34번 : 8803\n",
            "35번 : 8506\n",
            "36번 : 8376\n",
            "update!\n",
            "37번 : 8517\n",
            "38번 : 8456\n",
            "39번 : 8503\n",
            "40번 : 8494\n",
            "41번 : 8463\n",
            "42번 : 8334\n",
            "update!\n",
            "43번 : 8284\n",
            "update!\n",
            "44번 : 8473\n",
            "45번 : 8571\n",
            "46번 : 8465\n",
            "47번 : 8654\n",
            "48번 : 8550\n",
            "49번 : 8559\n",
            "50번 : 8550\n",
            "51번 : 8038\n",
            "update!\n",
            "52번 : 8003\n",
            "update!\n",
            "53번 : 8520\n",
            "54번 : 8282\n",
            "55번 : 8432\n",
            "56번 : 8432\n",
            "57번 : 8426\n",
            "58번 : 8511\n",
            "59번 : 8534\n",
            "60번 : 8575\n",
            "61번 : 8459\n",
            "62번 : 8297\n",
            "63번 : 8345\n",
            "64번 : 8316\n",
            "65번 : 8360\n",
            "66번 : 8289\n",
            "67번 : 8552\n",
            "68번 : 8397\n",
            "69번 : 8456\n",
            "70번 : 8551\n",
            "71번 : 8484\n",
            "72번 : 8530\n",
            "73번 : 8530\n",
            "74번 : 8530\n",
            "75번 : 8492\n",
            "76번 : 8530\n",
            "77번 : 8339\n",
            "78번 : 8401\n",
            "79번 : 8327\n",
            "80번 : 8401\n",
            "81번 : 8451\n",
            "82번 : 8401\n",
            "83번 : 8291\n",
            "84번 : 8331\n",
            "85번 : 8395\n",
            "86번 : 8356\n",
            "87번 : 8356\n",
            "88번 : 8637\n",
            "89번 : 8637\n",
            "90번 : 8354\n",
            "91번 : 8569\n",
            "92번 : 8432\n",
            "93번 : 8727\n",
            "94번 : 8283\n",
            "95번 : 8402\n",
            "96번 : 8440\n",
            "97번 : 8242\n",
            "98번 : 8407\n",
            "99번 : 8668\n",
            "100번 : 8020\n"
          ]
        }
      ],
      "source": [
        "population = GenerateGenesis(len(Subject), NUM_OF_CHROMOSOME)\n",
        "global_min = INF\n",
        "min_chromosome = []\n",
        "for dur in range(100):\n",
        "    progenitor_list = Selection(population)\n",
        "    population = []\n",
        "    for a, b in zip(progenitor_list[0], progenitor_list[1]):\n",
        "        population += [CycleCrossover(a, b)]\n",
        "\n",
        "    for i in range(len(population)):\n",
        "        population[i] = SwapMutation(population[i])\n",
        "\n",
        "\n",
        "    population = sorted(population, key=lambda chromosome : chromosome.Fitness)\n",
        "    print('%d번 : %d' % (dur + 1, population[0].Fitness))\n",
        "    if global_min > population[0].Fitness:\n",
        "        min_chromosome = population[0]\n",
        "        global_min = population[0].Fitness\n",
        "        print('update!')\n"
      ]
    },
    {
      "cell_type": "markdown",
      "source": [
        "### **결과**"
      ],
      "metadata": {
        "id": "WUo6Nuujz9_u"
      }
    },
    {
      "cell_type": "markdown",
      "source": [
        "<img src=\"https://drive.google.com/uc?id=1QrT9NREYEflMTJ8b0ZGYtZyqRqqRfr72\" height=\"400\"/>"
      ],
      "metadata": {
        "id": "DNbK8Uvk0qI0"
      }
    },
    {
      "cell_type": "code",
      "source": [
        "before_ga = {'창체/223': 25, '수학Ⅰ/420': 62, '화학Ⅰ/214': 18, '문학/323': 44, '창체/421': 63, '창체/324': 46, '인문학/302': 40, '창체/413': 53, '창체/321': 42, '생활과 윤리/324': 46, '영어Ⅰ/222': 24, '영미 문학 읽기/422': 64, '화학Ⅰ/423': 66, '한국지리/421': 63, '문학/223': 25, '창체/322': 43, '일본어Ⅰ/423': 66, '수학Ⅰ/413': 53, '인문학/415': 55, '실용 수학/322': 43, '영어Ⅰ/314': 34, '생명과학Ⅰ/216': 19, '물리학Ⅰ/211': 15, '창체/314': 34, '물리학Ⅰ/414': 54, '화법과 작문/321': 42, '정치와 법/422': 64, '영어Ⅰ/422': 64, '미술/114': 3, '창체/420': 62, '사회문제 탐구/421': 63, '지구과학Ⅰ/216': 19, '수학Ⅰ/0': 43, '문학/321': 42, '창의경영/312': 32, '공학 일반/407': 76, '영어 회화/222': 24, '사회문제 탐구/127': 11, '생활과 과학/225': 28, '중국어Ⅰ/404': 75, '창체/423': 66}\n",
        "gene = []\n",
        "for i in Subject:\n",
        "    gene += [before_ga[i]]\n",
        "fitness = GetFitness(gene)\n",
        "print('최적화 전 점수 :', fitness)\n",
        "print('최적화 후 점수 :', min_chromosome.Fitness)"
      ],
      "metadata": {
        "colab": {
          "base_uri": "https://localhost:8080/"
        },
        "id": "7Hbu98Ln0Pjp",
        "outputId": "58e09060-f556-4541-d955-861fb311001e"
      },
      "execution_count": null,
      "outputs": [
        {
          "output_type": "stream",
          "name": "stdout",
          "text": [
            "최적화 전 점수 : 12002.0\n",
            "최적화 후 점수 : 8003.0\n"
          ]
        }
      ]
    },
    {
      "cell_type": "code",
      "source": [
        "# 354 = 학생수(추정)\n",
        "print('학생 평균 이동거리 이동거리 :', min_chromosome.Fitness / 354)"
      ],
      "metadata": {
        "colab": {
          "base_uri": "https://localhost:8080/"
        },
        "id": "Ny71u1DszKFW",
        "outputId": "93abb1de-a13f-4ff2-dc1e-b16473a6d9db"
      },
      "execution_count": null,
      "outputs": [
        {
          "output_type": "stream",
          "name": "stdout",
          "text": [
            "학생 평균 이동거리 이동거리 : 22.60734463276836\n"
          ]
        }
      ]
    },
    {
      "cell_type": "code",
      "source": [
        "print('최적 교실 배치')\n",
        "for sub, cls in zip(Subject, min_chromosome.Gene):\n",
        "    print(sub, cls, sep=' : ')"
      ],
      "metadata": {
        "colab": {
          "base_uri": "https://localhost:8080/"
        },
        "id": "o_q7kcVYzU_P",
        "outputId": "af03f036-cd12-4863-98d2-e1d9e5c1df04"
      },
      "execution_count": null,
      "outputs": [
        {
          "output_type": "stream",
          "name": "stdout",
          "text": [
            "최적 교실 배치\n",
            "창체/223 : 25\n",
            "수학Ⅰ/420 : 23\n",
            "화학Ⅰ/214 : 29\n",
            "문학/323 : 38\n",
            "창체/421 : 10\n",
            "창체/324 : 30\n",
            "인문학/302 : 22\n",
            "창체/413 : 34\n",
            "창체/321 : 17\n",
            "생활과 윤리/324 : 19\n",
            "영어Ⅰ/222 : 7\n",
            "영미 문학 읽기/422 : 4\n",
            "화학Ⅰ/423 : 24\n",
            "한국지리/421 : 37\n",
            "문학/223 : 9\n",
            "창체/322 : 16\n",
            "일본어Ⅰ/423 : 20\n",
            "수학Ⅰ/413 : 2\n",
            "인문학/415 : 18\n",
            "실용 수학/322 : 8\n",
            "영어Ⅰ/314 : 21\n",
            "생명과학Ⅰ/216 : 40\n",
            "물리학Ⅰ/211 : 33\n",
            "창체/314 : 14\n",
            "물리학Ⅰ/414 : 26\n",
            "화법과 작문/321 : 39\n",
            "정치와 법/422 : 28\n",
            "영어Ⅰ/422 : 6\n",
            "미술/114 : 13\n",
            "창체/420 : 32\n",
            "사회문제 탐구/421 : 27\n",
            "지구과학Ⅰ/216 : 1\n",
            "수학Ⅰ/0 : 31\n",
            "문학/321 : 35\n",
            "창의경영/312 : 12\n",
            "공학 일반/407 : 15\n",
            "영어 회화/222 : 36\n",
            "사회문제 탐구/127 : 41\n",
            "생활과 과학/225 : 11\n",
            "중국어Ⅰ/404 : 5\n",
            "창체/423 : 3\n"
          ]
        }
      ]
    },
    {
      "cell_type": "markdown",
      "source": [
        "## **한계점**\n"
      ],
      "metadata": {
        "id": "59nOivao0zcm"
      }
    },
    {
      "cell_type": "markdown",
      "source": [
        "단순히 유전 알고리즘으로 교실을 최적화한다고 문제가 해결되지 않는다. 이와 관련하여 이 탐구의 한계점은 아래와 같다.\n",
        "\n",
        "> 1. 위 예시에서는 중복된 교실이 없다고 가정하였지만, 실제 수업시간표에서는 다른 과목이 한 교실을 공유하여 사용할 수 있다.(교실의 수와 과목의 수가 일치하지 않을 경우 포함함)\n",
        "> 2. 위치를 절대적으로 바꿀 수 없는 교실이 있을 수 있다. Ex) 수학실, 과학실\n",
        "\n",
        "다만 이러한 알고리즘 역시 유전 알고리즘을 변형시키면 해결이 가능할 것으로 보인다."
      ],
      "metadata": {
        "id": "IhREvHPP08mg"
      }
    }
  ],
  "metadata": {
    "colab": {
      "collapsed_sections": [
        "ftrZBY6AUHdC"
      ],
      "name": "유전 알고리즘을 사용한 교실 배치 최적화",
      "provenance": [],
      "authorship_tag": "ABX9TyMKr+Q8S72i6xXUocIy/sAq",
      "include_colab_link": true
    },
    "kernelspec": {
      "display_name": "Python 3",
      "name": "python3"
    },
    "language_info": {
      "name": "python"
    }
  },
  "nbformat": 4,
  "nbformat_minor": 0
}